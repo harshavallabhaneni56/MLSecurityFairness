{
 "cells": [
  {
   "cell_type": "markdown",
   "metadata": {},
   "source": [
    "### Import modules "
   ]
  },
  {
   "cell_type": "code",
   "execution_count": 1,
   "metadata": {},
   "outputs": [
    {
     "name": "stderr",
     "output_type": "stream",
     "text": [
      "Using TensorFlow backend.\n"
     ]
    }
   ],
   "source": [
    "# numpy stack\n",
    "import pandas as pd\n",
    "import numpy as np\n",
    "import matplotlib.pyplot as plt\n",
    "%matplotlib inline\n",
    "import seaborn as sns\n",
    "\n",
    "# keras\n",
    "from keras.callbacks import EarlyStopping, ModelCheckpoint\n",
    "from keras.layers import *\n",
    "from keras.models import *\n",
    "from keras import optimizers\n",
    "from keras.callbacks import *\n",
    "\n",
    "# sklearn\n",
    "from sklearn.model_selection import train_test_split\n",
    "from sklearn.metrics import mean_squared_error\n",
    "from sklearn.metrics import accuracy_score, f1_score, roc_curve, auc, precision_score, confusion_matrix\n",
    "from sklearn.preprocessing import MinMaxScaler\n",
    "from autoencoder_BATADAL import load_AEED\n",
    "\n",
    "# os and time utils\n",
    "import os\n",
    "import time\n",
    "import glob\n",
    "\n",
    "import pickle"
   ]
  },
  {
   "cell_type": "markdown",
   "metadata": {},
   "source": [
    "### Autoencoder classes"
   ]
  },
  {
   "cell_type": "code",
   "execution_count": 6,
   "metadata": {},
   "outputs": [],
   "source": [
    "# classes\n",
    "class AutoEncoder(object):\n",
    "    \"\"\" Keras-based AutoEncoder (AE) class used for event detection.\n",
    "\n",
    "        Attributes:\n",
    "        params: dictionary with parameters defining the AE structure,\n",
    "    \"\"\"\n",
    "    def __init__(self, **kwargs):\n",
    "        \"\"\" Class constructor, stores parameters and initialize AE Keras model. \"\"\"\n",
    "        \n",
    "        # Default parameters values. If nI is not given, the code will crash later.\n",
    "        params = {\n",
    "            'nI': None,\n",
    "            'nH': 3,\n",
    "            'cf': 1,\n",
    "            'activation' : 'tanh',\n",
    "            'optimizer' : None,\n",
    "            'verbose' : 0\n",
    "            }\n",
    "\n",
    "        for key,item in kwargs.items():\n",
    "            params[key] = item\n",
    "        \n",
    "        self.params = params\n",
    "\n",
    "    def create_model(self):\n",
    "        \"\"\" Creates Keras AE model.\n",
    "\n",
    "            The model has nI inputs, nH hidden layers in the encoder (and decoder)\n",
    "            and cf compression factor. The compression factor is the ratio between\n",
    "            the number of inputs and the innermost hidden layer which stands between\n",
    "            the encoder and the decoder. The size of the hidden layers between the \n",
    "            input (output) layer and the innermost layer decreases (increase) linearly\n",
    "            according to the cg.\n",
    "        \"\"\"\n",
    "        \n",
    "        # retrieve params\n",
    "        nI = self.params['nI'] # number of inputs\n",
    "        nH = self.params['nH'] # number of hidden layers in encoder (decoder)\n",
    "        cf = self.params['cf'] # compression factor\n",
    "        activation = self.params['activation'] # autoencoder activation function\n",
    "        optimizer = self.params['optimizer'] # Keras optimizer\n",
    "        verbose = self.params['verbose'] # echo on screen\n",
    "        \n",
    "        # get number/size of hidden layers for encoder and decoder\n",
    "        temp = np.linspace(nI,nI/cf,nH + 1).astype(int)\n",
    "        nH_enc = temp[1:]\n",
    "        nH_dec = temp[:-1][::-1]\n",
    "\n",
    "        # input layer placeholder\n",
    "        input_layer = Input(shape=(nI,))\n",
    "\n",
    "        # build encoder\n",
    "        for i, layer_size in enumerate(nH_enc):\n",
    "            if i == 0:\n",
    "                # first hidden layer\n",
    "                encoder = Dense(layer_size, activation=activation)(input_layer)\n",
    "            else:\n",
    "                # other hidden layers\n",
    "                encoder = Dense(layer_size, activation=activation)(encoder)\n",
    "\n",
    "        # build decoder\n",
    "        for i, layer_size in enumerate(nH_dec):\n",
    "            if i == 0:\n",
    "                # first hidden layer\n",
    "                decoder = Dense(layer_size, activation=activation)(encoder)\n",
    "            else:\n",
    "                # other hidden layers\n",
    "                decoder = Dense(layer_size, activation=activation)(decoder)\n",
    "\n",
    "        # create autoencoder\n",
    "        autoencoder = Model(input_layer, decoder)\n",
    "        if optimizer == None:\n",
    "            optimizer = optimizers.Adam(lr = 0.001)\n",
    "\n",
    "        # print autoencoder specs\n",
    "        if verbose > 0:\n",
    "            print('Created autoencoder with structure:');\n",
    "            print(', '.join('layer_{}: {}'.format(v, i) for v, i in enumerate(np.hstack([nI,nH_enc,nH_dec]))))\n",
    "\n",
    "        # compile and return model\n",
    "        autoencoder.compile(optimizer=optimizer, loss='mean_squared_error')\n",
    "        autoencoder.summary()\n",
    "        return autoencoder\n",
    "\n",
    "    def train(self, x, y, **train_params):\n",
    "        \"\"\" Train autoencoder,\n",
    "\n",
    "            x: inputs (inputs == targets, AE are self-supervised ANN).\n",
    "        \"\"\"        \n",
    "        if self.params['verbose']:\n",
    "            if self.ann == None:\n",
    "                print('Creating model.')\n",
    "                self.create_model()\n",
    "        self.ann.fit(x, y, **train_params)\n",
    "\n",
    "\n",
    "    def predict(self, x, test_params={}):\n",
    "        \"\"\" Yields reconstruction error for all inputs,\n",
    "\n",
    "            x: inputs.\n",
    "        \"\"\"\n",
    "        return self.ann.predict(x, **test_params)\n",
    "\n",
    "class AEED(AutoEncoder):\n",
    "    \"\"\" This class extends the AutoEncoder class to include event detection\n",
    "        functionalities.\n",
    "    \"\"\"\n",
    "    \n",
    "    def difference(x):\n",
    "        return (x[-1] - x[0])**2\n",
    "    \n",
    "    def initialize(self):\n",
    "        \"\"\" Create the underlying Keras model. \"\"\"\n",
    "        self.ann = self.create_model()\n",
    "\n",
    "    def predict(self, x, y, **keras_params):\n",
    "        \"\"\" Predict with autoencoder. \"\"\"        \n",
    "        preds = super(AEED, self).predict(x,keras_params)\n",
    "        errors = pd.DataFrame((y-preds)**2)\n",
    "        return preds, errors        \n",
    "        \n",
    "    def detect(self, x, y, theta, window = 1, average=False, sys_theta = 0, **keras_params):\n",
    "        \"\"\" Detection performed based on (smoothed) reconstruction errors.\n",
    "\n",
    "            x = inputs,\n",
    "            theta = threshold, attack flagged if reconstruction error > threshold,\n",
    "            window = length of the smoothing window (default = 1 timestep, i.e. no smoothing),\n",
    "            average = boolean (default = False), if True the detection is performed\n",
    "                on the average reconstruction error across all outputs,\n",
    "            keras_params = parameters for the Keras-based AE prediction.\n",
    "        \"\"\"\n",
    "        #        preds = super(AEED, self).predict(x,keras_params)\n",
    "        preds, temp = self.predict(x, y, **keras_params)\n",
    "        #temp = (x-preds)**2\n",
    "        if average:\n",
    "            errors = temp.mean(axis=1).rolling(window=window).mean()             \n",
    "            detection = errors > theta\n",
    "        else:\n",
    "            errors = temp.rolling(window=window).mean()\n",
    "            detection = errors.apply(lambda x: x>np.max(theta.name, sys_theta)) \n",
    "            \n",
    "        return detection, errors\n",
    "\n",
    "    def save(self, filename, scaler, theta):\n",
    "        \"\"\" Save AEED modelself.\n",
    "\n",
    "            AEED parameters saved in a .json, while Keras model is stored in .h5 .\n",
    "        \"\"\"\n",
    "        # parameters\n",
    "        with open(filename+'.json', 'w') as fp:\n",
    "            json.dump(self.params, fp)\n",
    "        # keras model\n",
    "        self.ann.save(filename+'.h5')\n",
    "        with open(\"theta\", 'w') as f:\n",
    "            f.write(str(theta))\n",
    "        pickle.dump(scaler, open( \"scaler.p\", \"wb\" ))\n",
    "        # echo\n",
    "        print('Saved AEED parameters to {0}.\\nKeras model saved to {1}'.format(filename+'.json', filename+'.h5'))\n",
    "\n",
    "\n",
    "# functions\n",
    "def load_AEED(params_filename, model_filename):\n",
    "    \"\"\" Load stored AEED. \"\"\"\n",
    "    # load params and create AEED\n",
    "    with open(params_filename) as fd:\n",
    "        params = json.load(fd)\n",
    "    aeed = AEED(**params)\n",
    "\n",
    "    # load keras model\n",
    "    aeed.ann = load_model(model_filename)\n",
    "    return aeed\n"
   ]
  },
  {
   "cell_type": "code",
   "execution_count": 7,
   "metadata": {},
   "outputs": [],
   "source": [
    "def create_dataset(dataset, window_size = 4):\n",
    "    \"\"\" \n",
    "    Creates the dataset composed by window_size samples of sensor readings and their relative label\n",
    "    \n",
    "    if windows size is 2, it returns a dataset composed [[[x-1, x][x]], [[x, x+1][x+1]], ...]\n",
    "    Parameters\n",
    "    ----------\n",
    "    dataset :  list\n",
    "        list of dataset samples\n",
    "    window_size : int\n",
    "        number of samples used for feeding the network.\n",
    "\n",
    "    Returns\n",
    "    -------\n",
    "    np array\n",
    "        dataset samples organized in groups of windows_size\n",
    "    np array\n",
    "        target of model prediction\n",
    "    \"\"\"\n",
    "    data_X, data_Y = [], []\n",
    "    for i in range(len(dataset) - window_size - 1):\n",
    "        a = dataset[i:(i + window_size + 1)] #remove +1 to turn into 1-step ahead prediction\n",
    "        data_X.append(a)\n",
    "        data_Y.append(dataset[i + window_size])\n",
    "    return(np.array(data_X), np.array(data_Y))"
   ]
  },
  {
   "cell_type": "markdown",
   "metadata": {},
   "source": [
    "### Load and preprocess training data"
   ]
  },
  {
   "cell_type": "code",
   "execution_count": 8,
   "metadata": {},
   "outputs": [],
   "source": [
    "data_path = \"../Data/WADI/\"\n",
    "df_train_orig = pd.read_csv(data_path+\"train_dataset.csv\",  parse_dates = {'DATETIME': ['Date','Time']} , dayfirst=True)#, parse_dates = ['DATETIME'], dayfirst=True)"
   ]
  },
  {
   "cell_type": "code",
   "execution_count": 9,
   "metadata": {},
   "outputs": [],
   "source": [
    "sensor_cols = [col for col in df_train_orig.columns if col not in ['Row','Date','Time', 'DATETIME', '2_MV_001_STATUS', '2_LT_001_PV', '2_MV_002_STATUS']]"
   ]
  },
  {
   "cell_type": "code",
   "execution_count": 10,
   "metadata": {},
   "outputs": [],
   "source": [
    "# scale sensor data\n",
    "scaler = MinMaxScaler()\n",
    "X = scaler.fit_transform(df_train_orig[sensor_cols])\n",
    "with open('scaler.p', 'wb') as file:\n",
    "    pickle.dump(scaler,file)\n",
    "# split into training and validation\n",
    "X1, X2, _, _  = train_test_split(X, X, test_size=0.33, random_state=42, shuffle=False)\n",
    "window = 5\n",
    "train_X, train_Y = create_dataset(X1, window) #to use also the current reading\n",
    "test_X, test_Y = create_dataset(X2, window)"
   ]
  },
  {
   "cell_type": "markdown",
   "metadata": {},
   "source": [
    "### Train autoencoder"
   ]
  },
  {
   "cell_type": "code",
   "execution_count": 17,
   "metadata": {},
   "outputs": [
    {
     "name": "stdout",
     "output_type": "stream",
     "text": [
      "Created autoencoder with structure:\n",
      "layer_0: 82, layer_1: 73, layer_2: 65, layer_3: 57, layer_4: 49, layer_5: 40, layer_6: 32, layer_7: 40, layer_8: 49, layer_9: 57, layer_10: 65, layer_11: 73, layer_12: 82\n",
      "Model: \"model_5\"\n",
      "_________________________________________________________________\n",
      "Layer (type)                 Output Shape              Param #   \n",
      "=================================================================\n",
      "input_5 (InputLayer)         (None, 82)                0         \n",
      "_________________________________________________________________\n",
      "dense_49 (Dense)             (None, 73)                6059      \n",
      "_________________________________________________________________\n",
      "dense_50 (Dense)             (None, 65)                4810      \n",
      "_________________________________________________________________\n",
      "dense_51 (Dense)             (None, 57)                3762      \n",
      "_________________________________________________________________\n",
      "dense_52 (Dense)             (None, 49)                2842      \n",
      "_________________________________________________________________\n",
      "dense_53 (Dense)             (None, 40)                2000      \n",
      "_________________________________________________________________\n",
      "dense_54 (Dense)             (None, 32)                1312      \n",
      "_________________________________________________________________\n",
      "dense_55 (Dense)             (None, 40)                1320      \n",
      "_________________________________________________________________\n",
      "dense_56 (Dense)             (None, 49)                2009      \n",
      "_________________________________________________________________\n",
      "dense_57 (Dense)             (None, 57)                2850      \n",
      "_________________________________________________________________\n",
      "dense_58 (Dense)             (None, 65)                3770      \n",
      "_________________________________________________________________\n",
      "dense_59 (Dense)             (None, 73)                4818      \n",
      "_________________________________________________________________\n",
      "dense_60 (Dense)             (None, 82)                6068      \n",
      "=================================================================\n",
      "Total params: 41,620\n",
      "Trainable params: 41,620\n",
      "Non-trainable params: 0\n",
      "_________________________________________________________________\n"
     ]
    }
   ],
   "source": [
    "# define model parameters\n",
    "params = {\n",
    "    'nI' : X.shape[1],\n",
    "    'nH' : 6,\n",
    "    'cf' : 2.5,\n",
    "    'activation' : 'tanh',\n",
    "    'verbose' : 1,\n",
    "}\n",
    "\n",
    "# create AutoEncoder for Event Detection (AEED)\n",
    "autoencoder = AEED(**params)\n",
    "autoencoder.initialize()"
   ]
  },
  {
   "cell_type": "code",
   "execution_count": 11,
   "metadata": {},
   "outputs": [
    {
     "name": "stderr",
     "output_type": "stream",
     "text": [
      "/home/alessando/anaconda3/lib/python3.7/site-packages/keras/callbacks/callbacks.py:998: UserWarning: `epsilon` argument is deprecated and will be removed, use `min_delta` instead.\n",
      "  warnings.warn('`epsilon` argument is deprecated and '\n"
     ]
    },
    {
     "name": "stdout",
     "output_type": "stream",
     "text": [
      "Train on 810432 samples, validate on 399169 samples\n",
      "Epoch 1/500\n",
      " - 336s - loss: 0.0017 - val_loss: 9.2311e-04\n",
      "Epoch 2/500\n",
      " - 205s - loss: 5.2234e-04 - val_loss: 5.8410e-04\n",
      "Epoch 3/500\n",
      " - 198s - loss: 4.1690e-04 - val_loss: 4.7006e-04\n",
      "Epoch 4/500\n",
      " - 227s - loss: 3.4054e-04 - val_loss: 7.0503e-04\n",
      "Epoch 5/500\n",
      " - 329s - loss: 1.8391e-04 - val_loss: 3.0098e-04\n",
      "Epoch 6/500\n",
      " - 287s - loss: 1.6396e-04 - val_loss: 2.6681e-04\n",
      "Epoch 7/500\n",
      " - 275s - loss: 1.1543e-04 - val_loss: 2.2539e-04\n",
      "Epoch 8/500\n",
      " - 263s - loss: 9.3770e-05 - val_loss: 2.0813e-04\n",
      "Epoch 9/500\n",
      " - 313s - loss: 8.3231e-05 - val_loss: 1.9516e-04\n",
      "Epoch 10/500\n",
      " - 227s - loss: 8.0754e-05 - val_loss: 1.8882e-04\n",
      "Epoch 11/500\n",
      " - 272s - loss: 7.4874e-05 - val_loss: 1.8124e-04\n",
      "Epoch 12/500\n",
      " - 216s - loss: 7.0880e-05 - val_loss: 1.8092e-04\n",
      "Epoch 13/500\n",
      " - 243s - loss: 6.7981e-05 - val_loss: 1.8039e-04\n",
      "Epoch 14/500\n",
      " - 251s - loss: 6.6297e-05 - val_loss: 1.7913e-04\n"
     ]
    }
   ],
   "source": [
    "# train models with early stopping and reduction of learning rate on plateau\n",
    "earlyStopping= EarlyStopping(monitor='val_loss', patience=3, verbose=0,  min_delta=1e-5, mode='auto')\n",
    "lr_reduced = ReduceLROnPlateau(monitor='val_loss', factor=0.5, patience=1, verbose=0, epsilon=1e-4, mode='min')\n",
    "    \n",
    "# initialize time\n",
    "start_time = time.time()\n",
    "\n",
    "# train autoencoder\n",
    "autoencoder.train(X1, X1,\n",
    "            epochs=500,\n",
    "            batch_size=32,\n",
    "            shuffle=True,\n",
    "            callbacks = [earlyStopping, lr_reduced],\n",
    "            verbose = 2,\n",
    "            validation_data=(X2, X2))\n"
   ]
  },
  {
   "cell_type": "markdown",
   "metadata": {},
   "source": [
    "### Test autoencoder"
   ]
  },
  {
   "cell_type": "code",
   "execution_count": 18,
   "metadata": {},
   "outputs": [],
   "source": [
    "# assess detection\n",
    "def compute_scores(Y,Yhat):\n",
    "    fpr, recall, _ = roc_curve(Y, Yhat)\n",
    "    return [accuracy_score(Y,Yhat),f1_score(Y,Yhat),precision_score(Y,Yhat),recall[1], fpr[1]]"
   ]
  },
  {
   "cell_type": "code",
   "execution_count": 19,
   "metadata": {},
   "outputs": [
    {
     "name": "stdout",
     "output_type": "stream",
     "text": [
      "(88,)\n"
     ]
    }
   ],
   "source": [
    "# Load dataset with attacks\n",
    "df_test_01 = pd.read_csv(data_path + 'attacks_october_clean_with_label.csv')#, parse_dates = ['DATETIME'], dayfirst=True)\n",
    "print(df_test_01.columns.shape)\n",
    "# scale datasets\n",
    "X3 = pd.DataFrame(index = df_test_01.index, columns = sensor_cols, \n",
    "                  data = scaler.transform(df_test_01[sensor_cols]))\n",
    "#X3, Y3_target = create_dataset(X3.values, window) #to use also the current reading\n",
    "# get targets\n",
    "Y3 = df_test_01['ATT_FLAG']"
   ]
  },
  {
   "cell_type": "code",
   "execution_count": 20,
   "metadata": {},
   "outputs": [
    {
     "data": {
      "image/png": "[encoded data removed]",
      "text/plain": [
       "<Figure size 576x288 with 1 Axes>"
      ]
     },
     "metadata": {
      "needs_background": "light"
     },
     "output_type": "display_data"
    }
   ],
   "source": [
    "#perform detection\n",
    "\n",
    "# get validation reconstruction errors\n",
    "_, validation_errors = autoencoder.predict(X2, X2)\n",
    "# plot distribution of average validation reconstruction errors \n",
    "f, ax = plt.subplots(1, figsize = (8,4))\n",
    "sns.boxplot(validation_errors.mean(axis=1), ax=ax)\n",
    "ax.set_xlim([0,0.005])\n",
    "ax.set_title('Boxplot of average validation reconstruction errors')\n",
    "\n",
    "# set treshold as quantile of average reconstruction error\n",
    "theta = validation_errors.mean(axis = 1).quantile(0.995)\n",
    "with open('theta', 'w') as file:\n",
    "    file.write(str(theta))\n",
    "Yhat3, _ = autoencoder.detect(X3, X3, theta = theta , window = 60, average=True)\n"
   ]
  },
  {
   "cell_type": "code",
   "execution_count": 21,
   "metadata": {},
   "outputs": [
    {
     "name": "stdout",
     "output_type": "stream",
     "text": [
      "Results:\n",
      "\n",
      "                 accuracy  f1_score precision    recall        fpr\n",
      "test dataset 01  0.965318  0.655278   0.76973  0.570456  0.0104658\n",
      "train dataset         NaN       NaN       NaN       NaN        NaN\n"
     ]
    }
   ],
   "source": [
    "results = pd.DataFrame(index = ['test dataset 01', 'train dataset'], \n",
    "                       columns = ['accuracy','f1_score','precision','recall','fpr'])\n",
    "results.loc['test dataset 01'] = compute_scores(Y3,Yhat3) \n",
    "\n",
    "print('Results:\\n')\n",
    "print(results)"
   ]
  },
  {
   "cell_type": "code",
   "execution_count": null,
   "metadata": {},
   "outputs": [],
   "source": [
    "confusion_matrix(Y3,Yhat3)"
   ]
  },
  {
   "cell_type": "code",
   "execution_count": null,
   "metadata": {},
   "outputs": [],
   "source": [
    "# plot figure\n",
    "shade_of_gray = '0.75'\n",
    "f, axes = plt.subplots(2,figsize = (40,32))\n",
    "axes[0].plot(Yhat3, color = shade_of_gray, label = 'predicted state')\n",
    "axes[0].fill_between(Yhat3.index, Yhat3.values, where=Yhat3.values <=1, interpolate=True, color=shade_of_gray)\n",
    "axes[0].plot(Y3, color = 'r', alpha = 0.85, lw = 1, label = 'real state')\n",
    "axes[0].set_title('Detection trajectory on test dataset 01 original autoencoder', fontsize = 14)\n",
    "axes[0].set_yticks([0,1])\n",
    "axes[0].set_yticklabels(['NO ATTACK','ATTACK'])\n",
    "axes[0].legend(fontsize = 12, loc = 2)\n",
    "axes[1].plot(Yhat4, color = shade_of_gray, label = 'predicted state')\n",
    "axes[1].fill_between(Yhat4.index, Yhat4.values, where=Yhat4.values <=1, interpolate=True, color=shade_of_gray)\n",
    "axes[1].plot(Y4, color = 'r', alpha = 0.85, lw = 1, label = 'real state')\n",
    "axes[1].set_title('Detection trajectory on test dataset 01 original autoencoder', fontsize = 14)\n",
    "axes[1].set_yticks([0,1])\n",
    "axes[1].set_yticklabels(['NO ATTACK','ATTACK'])\n",
    "axes[1].legend(fontsize = 12, loc = 2)\n",
    "\n",
    "#plt.savefig('original-substitute-detection.png', format='png')"
   ]
  }
 ],
 "metadata": {
  "kernelspec": {
   "display_name": "Python 3",
   "language": "python",
   "name": "python3"
  },
  "language_info": {
   "codemirror_mode": {
    "name": "ipython",
    "version": 3
   },
   "file_extension": ".py",
   "mimetype": "text/x-python",
   "name": "python",
   "nbconvert_exporter": "python",
   "pygments_lexer": "ipython3",
   "version": "3.7.3"
  }
 },
 "nbformat": 4,
 "nbformat_minor": 2
}
